{
 "cells": [
  {
   "cell_type": "markdown",
   "metadata": {},
   "source": [
    "# Example Usage of Minitree Containing Array Branches\n",
    "\n",
    "This is an example of how to include arrays (e.g. peak- or event-level data) in your minitree. It was ran on midway with the goal of looking at some properties of single electrons in Xenon1T."
   ]
  },
  {
   "cell_type": "code",
   "execution_count": 1,
   "metadata": {
    "collapsed": true
   },
   "outputs": [],
   "source": [
    "import numpy as np\n",
    "import pandas as pd\n",
    "import sys, os\n",
    "import hax\n",
    "\n",
    "dataset = '160706_1631'\n",
    "file_header = '/home/jh3226/analysis/single_electron/'\n",
    "minitree_header = os.path.join(file_header, 'datasets_reduced/')"
   ]
  },
  {
   "cell_type": "markdown",
   "metadata": {},
   "source": [
    "### Building the TreeMaker\n",
    "\n",
    "As usual, you make your TreeMaker class and override the extract_data function, which operates on each event and returns a dictionary. The keys of the dictionary become the branch names, and its values become the branch values. The only difference is that you can have dictionary keys which contain arrays, as long as there is another dictonary key included that indicates the length of these arrays for each event. Here I am saving several fields from every peak in the TPC that is not a 'lone_hit' as arrays, and the dictionary key 'nb_peaks' gives the length of these arrays.\n",
    "\n",
    "Note also that this method doesn't currently accept strings, so I have to convert the 'type' attribute to coded ints."
   ]
  },
  {
   "cell_type": "code",
   "execution_count": 2,
   "metadata": {
    "collapsed": true
   },
   "outputs": [],
   "source": [
    "class SEProperties(hax.minitrees.TreeMaker):\n",
    "    \"\"\"\n",
    "    This TreeMaker will take the event class and turn it into a row\n",
    "    in a table (e.g. TNtuple or pandas DataFrame).  We define only\n",
    "    one function, which takes a pax event in.  It returns a dictionary\n",
    "    of new variables and their values.\n",
    "    \"\"\"\n",
    "\n",
    "    extra_branches = ['*']  # Activate all of ROOT file\n",
    "    __version__ = '0.0.1'\n",
    "\n",
    "    def extract_data(self, event):\n",
    "        # This runs on each event\n",
    "        # These are the peak properties that I'm interested in looking at.\n",
    "        # Look here for more info: http://xenon1t.github.io/pax/format.html#peak\n",
    "        peak_field_namelist = [\n",
    "                                'area', 'area_fraction_top', 'width',\n",
    "                                'hit_time_mean', 'hit_time_std',\n",
    "                                'n_contributing_channels', 'n_saturated_channels',\n",
    "                                'left', 'type', 'x', 'y'\n",
    "                              ]\n",
    "\n",
    "        peaks = event.peaks\n",
    "        peaks = [peak for peak in peaks if ((peak.type != 'lone_hit') and (peak.detector=='tpc'))]\n",
    "        nb_peaks = len(peaks)\n",
    "        result = {}\n",
    "        result['nb_peaks'] = nb_peaks\n",
    "        result['time'] = event.start_time\n",
    "        for peak_field in peak_field_namelist:\n",
    "            if hasattr(peaks[0], peak_field):\n",
    "                if isinstance(getattr(peaks[0], peak_field), str):\n",
    "                    result[peak_field] = np.empty(nb_peaks, dtype = (str, 10))\n",
    "                else:\n",
    "                    result[peak_field] = np.empty(nb_peaks, dtype = type(getattr(peaks[0], peak_field)) )\n",
    "                for (i, peak) in enumerate(peaks):\n",
    "                    result[peak_field][i] = getattr(peak, peak_field)\n",
    "            elif peak_field in ('x', 'y'):\n",
    "                result[peak_field] = np.empty(nb_peaks, dtype = float)\n",
    "                result[peak_field].fill(float('nan'))\n",
    "                for (i, peak) in enumerate(peaks):\n",
    "                    for rp in peak.reconstructed_positions:\n",
    "                        if rp.algorithm == 'PosRecTopPatternFit':\n",
    "                            result[peak_field][i] = getattr(rp, peak_field)\n",
    "                            break\n",
    "            elif peak_field=='width':\n",
    "                result[peak_field] = np.empty(nb_peaks, dtype = float)\n",
    "                for (i, peak) in enumerate(peaks):\n",
    "                    result[peak_field][i] = list(peak.range_area_decile)[5]\n",
    "            else:\n",
    "                raise ValueError(\"Field %s doesn't exist\" % peak_field)\n",
    "\n",
    "        # converting the type field to ints, since this method doesn't accept strings\n",
    "        type_ints = {'s1': 1, 's2': 2, 'unknown': 3}\n",
    "        for (i, peak) in enumerate(peaks):\n",
    "            if peak.type in list(type_ints.keys()):\n",
    "                result['type'] = type_ints[peak.type]\n",
    "            else:\n",
    "                raise ValueError(\"No int set for type \\'%s\\'\" % peak.type)\n",
    "        return result\n",
    "\n",
    "hax.init(main_data_paths=['/project/lgrandi/xenon1t/processed/pax_v5.0.0/'], experiment='XENON1T',\n",
    "         minitree_paths = [minitree_header])"
   ]
  },
  {
   "cell_type": "markdown",
   "metadata": {},
   "source": [
    "### Reducing the data (and pickling)\n",
    "Now I use the `minitrees.load()` function as usual, with some new options. To save as a pickle file (in addition to root), use the save_pickle option. If you don't want to save as a root file as well, use save_root."
   ]
  },
  {
   "cell_type": "code",
   "execution_count": 3,
   "metadata": {
    "collapsed": false
   },
   "outputs": [
    {
     "name": "stderr",
     "output_type": "stream",
     "text": [
      "100%|██████████| 4946/4946 [00:03<00:00, 1298.93it/s]\n",
      "100%|██████████| 4946/4946 [05:16<00:00, 15.61it/s]\n"
     ]
    },
    {
     "data": {
      "text/html": [
       "<div>\n",
       "<table border=\"1\" class=\"dataframe\">\n",
       "  <thead>\n",
       "    <tr style=\"text-align: right;\">\n",
       "      <th></th>\n",
       "      <th>event_duration</th>\n",
       "      <th>event_number</th>\n",
       "      <th>event_time</th>\n",
       "      <th>run_number</th>\n",
       "      <th>area</th>\n",
       "      <th>area_fraction_top</th>\n",
       "      <th>hit_time_mean</th>\n",
       "      <th>hit_time_std</th>\n",
       "      <th>left</th>\n",
       "      <th>n_contributing_channels</th>\n",
       "      <th>n_saturated_channels</th>\n",
       "      <th>nb_peaks</th>\n",
       "      <th>time</th>\n",
       "      <th>type</th>\n",
       "      <th>width</th>\n",
       "      <th>x</th>\n",
       "      <th>y</th>\n",
       "    </tr>\n",
       "  </thead>\n",
       "  <tbody>\n",
       "    <tr>\n",
       "      <th>0</th>\n",
       "      <td>806090</td>\n",
       "      <td>0</td>\n",
       "      <td>1467815517001724790</td>\n",
       "      <td>1289</td>\n",
       "      <td>[3.09444856644, 2.97188568115, 0.94188117981, ...</td>\n",
       "      <td>[0.390328347683, 0.350992381573, 1.0, 1.0, 0.7...</td>\n",
       "      <td>[2803.63916016, 5524.22998047, 9580.87792969, ...</td>\n",
       "      <td>[175.543884277, 30.3824005127, 1.57216238976, ...</td>\n",
       "      <td>[248, 549, 957, 991, 1254, 1963, 2342, 2544, 2...</td>\n",
       "      <td>[5, 3, 2, 2, 15, 3, 3, 3, 4, 2, 17, 3, 2, 16, ...</td>\n",
       "      <td>[0, 0, 0, 0, 0, 0, 0, 0, 0, 0, 0, 0, 0, 0, 0, ...</td>\n",
       "      <td>241</td>\n",
       "      <td>1467815517001724790</td>\n",
       "      <td>2</td>\n",
       "      <td>[202.157314396, 62.1318035413, 8.13094520425, ...</td>\n",
       "      <td>[-23.8151626587, -18.3289470673, -27.306390762...</td>\n",
       "      <td>[-2.11967420578, 35.2863426208, 16.3339595795,...</td>\n",
       "    </tr>\n",
       "  </tbody>\n",
       "</table>\n",
       "</div>"
      ],
      "text/plain": [
       "   event_duration  event_number           event_time  run_number  \\\n",
       "0          806090             0  1467815517001724790        1289   \n",
       "\n",
       "                                                area  \\\n",
       "0  [3.09444856644, 2.97188568115, 0.94188117981, ...   \n",
       "\n",
       "                                   area_fraction_top  \\\n",
       "0  [0.390328347683, 0.350992381573, 1.0, 1.0, 0.7...   \n",
       "\n",
       "                                       hit_time_mean  \\\n",
       "0  [2803.63916016, 5524.22998047, 9580.87792969, ...   \n",
       "\n",
       "                                        hit_time_std  \\\n",
       "0  [175.543884277, 30.3824005127, 1.57216238976, ...   \n",
       "\n",
       "                                                left  \\\n",
       "0  [248, 549, 957, 991, 1254, 1963, 2342, 2544, 2...   \n",
       "\n",
       "                             n_contributing_channels  \\\n",
       "0  [5, 3, 2, 2, 15, 3, 3, 3, 4, 2, 17, 3, 2, 16, ...   \n",
       "\n",
       "                                n_saturated_channels  nb_peaks  \\\n",
       "0  [0, 0, 0, 0, 0, 0, 0, 0, 0, 0, 0, 0, 0, 0, 0, ...       241   \n",
       "\n",
       "                  time  type  \\\n",
       "0  1467815517001724790     2   \n",
       "\n",
       "                                               width  \\\n",
       "0  [202.157314396, 62.1318035413, 8.13094520425, ...   \n",
       "\n",
       "                                                   x  \\\n",
       "0  [-23.8151626587, -18.3289470673, -27.306390762...   \n",
       "\n",
       "                                                   y  \n",
       "0  [-2.11967420578, 35.2863426208, 16.3339595795,...  "
      ]
     },
     "execution_count": 3,
     "metadata": {},
     "output_type": "execute_result"
    }
   ],
   "source": [
    "data = hax.minitrees.load(dataset, treemakers=[SEProperties], save_pickle=True, force_reload=True)\n",
    "# data = hax.minitrees.load(dataset, treemakers=[SEProperties], save_pickle=True, save_root=False, force_reload=True)\n",
    "\n",
    "data.head(1)"
   ]
  },
  {
   "cell_type": "markdown",
   "metadata": {},
   "source": [
    "### Reloading from pickle\n",
    "The pickle can be read in the usual ways, and contains a dictionary like `{'metadata': <dictionary>, '<treemaker name>': <pandas dataframe> }`."
   ]
  },
  {
   "cell_type": "code",
   "execution_count": 4,
   "metadata": {
    "collapsed": false
   },
   "outputs": [
    {
     "name": "stdout",
     "output_type": "stream",
     "text": [
      "{'documentation': '\\n    This TreeMaker will take the event class and turn it into a row\\n    in a table (e.g. TNtuple or pandas DataFrame).  We define only\\n    one function, which takes a pax event in.  It returns a dictionary\\n    of new variables and their values.\\n    ', 'timestamp': '2016-08-23 16:11:46.212678', 'version': '0.0.1', 'created_by': 'jh3226@midway-login1', 'pax_version': '5.5.0'}\n"
     ]
    },
    {
     "data": {
      "text/html": [
       "<div>\n",
       "<table border=\"1\" class=\"dataframe\">\n",
       "  <thead>\n",
       "    <tr style=\"text-align: right;\">\n",
       "      <th></th>\n",
       "      <th>area</th>\n",
       "      <th>area_fraction_top</th>\n",
       "      <th>hit_time_mean</th>\n",
       "      <th>hit_time_std</th>\n",
       "      <th>left</th>\n",
       "      <th>n_contributing_channels</th>\n",
       "      <th>n_saturated_channels</th>\n",
       "      <th>nb_peaks</th>\n",
       "      <th>time</th>\n",
       "      <th>type</th>\n",
       "      <th>width</th>\n",
       "      <th>x</th>\n",
       "      <th>y</th>\n",
       "    </tr>\n",
       "  </thead>\n",
       "  <tbody>\n",
       "    <tr>\n",
       "      <th>0</th>\n",
       "      <td>[3.09444856644, 2.97188568115, 0.94188117981, ...</td>\n",
       "      <td>[0.390328347683, 0.350992381573, 1.0, 1.0, 0.7...</td>\n",
       "      <td>[2803.63916016, 5524.22998047, 9580.87792969, ...</td>\n",
       "      <td>[175.543884277, 30.3824005127, 1.57216238976, ...</td>\n",
       "      <td>[248, 549, 957, 991, 1254, 1963, 2342, 2544, 2...</td>\n",
       "      <td>[5, 3, 2, 2, 15, 3, 3, 3, 4, 2, 17, 3, 2, 16, ...</td>\n",
       "      <td>[0, 0, 0, 0, 0, 0, 0, 0, 0, 0, 0, 0, 0, 0, 0, ...</td>\n",
       "      <td>241</td>\n",
       "      <td>1467815517001724790</td>\n",
       "      <td>2</td>\n",
       "      <td>[202.157314396, 62.1318035413, 8.13094520425, ...</td>\n",
       "      <td>[-23.8151626587, -18.3289470673, -27.306390762...</td>\n",
       "      <td>[-2.11967420578, 35.2863426208, 16.3339595795,...</td>\n",
       "    </tr>\n",
       "  </tbody>\n",
       "</table>\n",
       "</div>"
      ],
      "text/plain": [
       "                                                area  \\\n",
       "0  [3.09444856644, 2.97188568115, 0.94188117981, ...   \n",
       "\n",
       "                                   area_fraction_top  \\\n",
       "0  [0.390328347683, 0.350992381573, 1.0, 1.0, 0.7...   \n",
       "\n",
       "                                       hit_time_mean  \\\n",
       "0  [2803.63916016, 5524.22998047, 9580.87792969, ...   \n",
       "\n",
       "                                        hit_time_std  \\\n",
       "0  [175.543884277, 30.3824005127, 1.57216238976, ...   \n",
       "\n",
       "                                                left  \\\n",
       "0  [248, 549, 957, 991, 1254, 1963, 2342, 2544, 2...   \n",
       "\n",
       "                             n_contributing_channels  \\\n",
       "0  [5, 3, 2, 2, 15, 3, 3, 3, 4, 2, 17, 3, 2, 16, ...   \n",
       "\n",
       "                                n_saturated_channels  nb_peaks  \\\n",
       "0  [0, 0, 0, 0, 0, 0, 0, 0, 0, 0, 0, 0, 0, 0, 0, ...       241   \n",
       "\n",
       "                  time  type  \\\n",
       "0  1467815517001724790     2   \n",
       "\n",
       "                                               width  \\\n",
       "0  [202.157314396, 62.1318035413, 8.13094520425, ...   \n",
       "\n",
       "                                                   x  \\\n",
       "0  [-23.8151626587, -18.3289470673, -27.306390762...   \n",
       "\n",
       "                                                   y  \n",
       "0  [-2.11967420578, 35.2863426208, 16.3339595795,...  "
      ]
     },
     "execution_count": 4,
     "metadata": {},
     "output_type": "execute_result"
    }
   ],
   "source": [
    "pickle_data = pd.read_pickle(os.path.join(minitree_header, '160706_1631_SEProperties.pkl'))\n",
    "print(pickle_data['metadata'])\n",
    "pickle_data['SEProperties'].head(1)"
   ]
  },
  {
   "cell_type": "markdown",
   "metadata": {},
   "source": [
    "### Reloading from root\n",
    "When loading from the root file, for some reason using `np.asarray()` to read the arrays from the tree gives garbage, but `array.array()` works. Also note that `root_numpy.root2array()` will not work since it doesn't support arrays of this type."
   ]
  },
  {
   "cell_type": "code",
   "execution_count": 5,
   "metadata": {
    "collapsed": false
   },
   "outputs": [
    {
     "name": "stdout",
     "output_type": "stream",
     "text": [
      "4946 events\n",
      "dataframe: [3.0944485664367676, 2.9718856811523438, 0.94188117980957031, 2.3494102954864502, 18.752710342407227]\n",
      "np.asarray(): [0, 0, 0, 64, 110]\n",
      "array.array(): [3.0944485664367676, 2.9718856811523438, 0.9418811798095703, 2.34941029548645, 18.752710342407227]\n"
     ]
    }
   ],
   "source": [
    "import ROOT as root\n",
    "import array\n",
    "\n",
    "root_file = root.TFile(os.path.join(minitree_header, '160706_1631_SEProperties.root'))\n",
    "tree=root_file.Get(\"SEProperties\")\n",
    "nEvents = tree.GetEntries()\n",
    "print(\"%d events\" % nEvents)\n",
    "\n",
    "tree.GetEntry(0)\n",
    "print('dataframe: %s' % list(data['area'][0][:5]))\n",
    "print('np.asarray(): %s' % list(np.asarray(tree.area)[:5]))\n",
    "print('array.array(): %s' % list(array.array('d', tree.area)[:5]))"
   ]
  }
 ],
 "metadata": {
  "kernelspec": {
   "display_name": "Python 3",
   "language": "python",
   "name": "python3"
  },
  "language_info": {
   "codemirror_mode": {
    "name": "ipython",
    "version": 3
   },
   "file_extension": ".py",
   "mimetype": "text/x-python",
   "name": "python",
   "nbconvert_exporter": "python",
   "pygments_lexer": "ipython3",
   "version": "3.4.4"
  }
 },
 "nbformat": 4,
 "nbformat_minor": 0
}
